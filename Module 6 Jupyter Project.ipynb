{
  "metadata": {
    "kernelspec": {
      "name": "python",
      "display_name": "Python (Pyodide)",
      "language": "python"
    },
    "language_info": {
      "codemirror_mode": {
        "name": "python",
        "version": 3
      },
      "file_extension": ".py",
      "mimetype": "text/x-python",
      "name": "python",
      "nbconvert_exporter": "python",
      "pygments_lexer": "ipython3",
      "version": "3.8"
    }
  },
  "nbformat_minor": 4,
  "nbformat": 4,
  "cells": [
    {
      "cell_type": "markdown",
      "source": "# Module 6 Jupyter Notebook Project",
      "metadata": {}
    },
    {
      "cell_type": "markdown",
      "source": "### _In this module I created my own Notebook using JupyterLite_",
      "metadata": {}
    },
    {
      "cell_type": "markdown",
      "source": "In this course we covered the following data science languages:\n\n* 1. SQL\n* 2. R\n* 3. Python\n* 4. Scala\n* 5. Java\n* ...and more.",
      "metadata": {}
    },
    {
      "cell_type": "markdown",
      "source": "Additionally, we covered some popular data science libraries, including the following:\n\n* Pandas\n* NumPy\n* Matplotlib\n* Scikit-learn\n* Pytorch\n* ...and more.",
      "metadata": {}
    },
    {
      "cell_type": "markdown",
      "source": "List of open-source data science tools:\n\n* MySQL\n* PostgreSQL\n* MongoDB\n* Apache Airflow\n* Kubeflow\n* Apache Kafka\n* et al...",
      "metadata": {}
    },
    {
      "cell_type": "code",
      "source": "(10 + 17 - 4) * (9 + 12 - 3)\n ",
      "metadata": {
        "trusted": true
      },
      "outputs": [
        {
          "execution_count": 15,
          "output_type": "execute_result",
          "data": {
            "text/plain": "414"
          },
          "metadata": {}
        }
      ],
      "execution_count": 15
    },
    {
      "cell_type": "code",
      "source": "10 * 11 + 54 ",
      "metadata": {
        "trusted": true
      },
      "outputs": [
        {
          "execution_count": 17,
          "output_type": "execute_result",
          "data": {
            "text/plain": "164"
          },
          "metadata": {}
        }
      ],
      "execution_count": 17
    },
    {
      "cell_type": "code",
      "source": "# (minutes in an hour) * (hours)\n200 * 60",
      "metadata": {
        "trusted": true
      },
      "outputs": [
        {
          "execution_count": 18,
          "output_type": "execute_result",
          "data": {
            "text/plain": "12000"
          },
          "metadata": {}
        }
      ],
      "execution_count": 18
    },
    {
      "cell_type": "markdown",
      "source": "Some objectives of this course have been:\n\n* Gaining familiarity with Data Science terminology\n* Learning about the tools and resources of the science\n* Gaining hands-on experience using these tools",
      "metadata": {}
    },
    {
      "cell_type": "markdown",
      "source": "Author name: Ryan Sigman",
      "metadata": {}
    },
    {
      "cell_type": "code",
      "source": "",
      "metadata": {
        "trusted": true
      },
      "outputs": [],
      "execution_count": null
    }
  ]
}